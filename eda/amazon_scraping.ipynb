{
 "cells": [
  {
   "cell_type": "code",
   "execution_count": 78,
   "metadata": {},
   "outputs": [],
   "source": [
    "import requests\n",
    "\n",
    "from bs4 import BeautifulSoup\n",
    "import pickle\n",
    "from nltk.corpus import stopwords\n",
    "import re\n",
    "from nltk.tokenize import word_tokenize\n",
    "\n",
    "import pandas as pd\n",
    "import numpy as np\n",
    "from selenium import webdriver\n",
    "\n"
   ]
  },
  {
   "cell_type": "code",
   "execution_count": 82,
   "metadata": {},
   "outputs": [
    {
     "ename": "SessionNotCreatedException",
     "evalue": "Message: session not created: This version of ChromeDriver only supports Chrome version 89\nCurrent browser version is 114.0.5735.198 with binary path /Applications/Google Chrome.app/Contents/MacOS/Google Chrome\nStacktrace:\n0   chromedriver                        0x0000000100b7cb59 chromedriver + 2595673\n1   chromedriver                        0x0000000101230b33 chromedriver + 9624371\n2   chromedriver                        0x000000010092c773 chromedriver + 169843\n3   chromedriver                        0x0000000100950bf6 chromedriver + 318454\n4   chromedriver                        0x000000010094cdc4 chromedriver + 302532\n5   chromedriver                        0x000000010094a032 chromedriver + 290866\n6   chromedriver                        0x000000010097d234 chromedriver + 500276\n7   chromedriver                        0x00000001009784f3 chromedriver + 480499\n8   chromedriver                        0x0000000100952cd6 chromedriver + 326870\n9   chromedriver                        0x0000000100953ba7 chromedriver + 330663\n10  chromedriver                        0x0000000100b4ab09 chromedriver + 2390793\n11  chromedriver                        0x0000000100b57bcc chromedriver + 2444236\n12  chromedriver                        0x0000000100b576ee chromedriver + 2442990\n13  chromedriver                        0x0000000100b31832 chromedriver + 2287666\n14  chromedriver                        0x0000000100b5863f chromedriver + 2446911\n15  chromedriver                        0x0000000100b40299 chromedriver + 2347673\n16  chromedriver                        0x0000000100b6f8b9 chromedriver + 2541753\n17  chromedriver                        0x0000000100b82008 chromedriver + 2617352\n18  libsystem_pthread.dylib             0x00007ff818123259 _pthread_start + 125\n19  libsystem_pthread.dylib             0x00007ff81811ec7b thread_start + 15\n",
     "output_type": "error",
     "traceback": [
      "\u001b[0;31m---------------------------------------------------------------------------\u001b[0m",
      "\u001b[0;31mSessionNotCreatedException\u001b[0m                Traceback (most recent call last)",
      "\u001b[1;32m/Users/gautamvenkatesh/Coding/ebay_recommender/ebay-recommender/src/eda/amazon_scraping.ipynb Cell 2\u001b[0m in \u001b[0;36m3\n\u001b[1;32m      <a href='vscode-notebook-cell:/Users/gautamvenkatesh/Coding/ebay_recommender/ebay-recommender/src/eda/amazon_scraping.ipynb#W1sZmlsZQ%3D%3D?line=0'>1</a>\u001b[0m \u001b[39m# op = webdriver.ChromeOptions()\u001b[39;00m\n\u001b[1;32m      <a href='vscode-notebook-cell:/Users/gautamvenkatesh/Coding/ebay_recommender/ebay-recommender/src/eda/amazon_scraping.ipynb#W1sZmlsZQ%3D%3D?line=1'>2</a>\u001b[0m \u001b[39m# op.add_argument('headless')\u001b[39;00m\n\u001b[0;32m----> <a href='vscode-notebook-cell:/Users/gautamvenkatesh/Coding/ebay_recommender/ebay-recommender/src/eda/amazon_scraping.ipynb#W1sZmlsZQ%3D%3D?line=2'>3</a>\u001b[0m driver \u001b[39m=\u001b[39m webdriver\u001b[39m.\u001b[39mChrome(options\u001b[39m=\u001b[39mop)\n\u001b[1;32m      <a href='vscode-notebook-cell:/Users/gautamvenkatesh/Coding/ebay_recommender/ebay-recommender/src/eda/amazon_scraping.ipynb#W1sZmlsZQ%3D%3D?line=3'>4</a>\u001b[0m driver\u001b[39m.\u001b[39mget(\u001b[39m\"\u001b[39m\u001b[39mhttps://www.amazon.com/Nature-Made-Vitamin-1000-Softgels/dp/B004U3Y8OM/ref=sr_1_5?crid=1MQJHPEQMD4IX&keywords=vitamin+d&qid=1688933123&sprefix=\u001b[39m\u001b[39m%\u001b[39m\u001b[39m2Caps\u001b[39m\u001b[39m%\u001b[39m\u001b[39m2C74&sr=8-5\u001b[39m\u001b[39m\"\u001b[39m)\n\u001b[1;32m      <a href='vscode-notebook-cell:/Users/gautamvenkatesh/Coding/ebay_recommender/ebay-recommender/src/eda/amazon_scraping.ipynb#W1sZmlsZQ%3D%3D?line=4'>5</a>\u001b[0m elem \u001b[39m=\u001b[39m driver\u001b[39m.\u001b[39mfind_element(\u001b[39m'\u001b[39m\u001b[39mproductTitle\u001b[39m\u001b[39m'\u001b[39m)\n",
      "File \u001b[0;32m/usr/local/lib/python3.10/site-packages/selenium/webdriver/chrome/webdriver.py:49\u001b[0m, in \u001b[0;36mWebDriver.__init__\u001b[0;34m(self, options, service, keep_alive)\u001b[0m\n\u001b[1;32m     45\u001b[0m \u001b[39mself\u001b[39m\u001b[39m.\u001b[39mkeep_alive \u001b[39m=\u001b[39m keep_alive\n\u001b[1;32m     47\u001b[0m \u001b[39mself\u001b[39m\u001b[39m.\u001b[39mservice\u001b[39m.\u001b[39mpath \u001b[39m=\u001b[39m DriverFinder\u001b[39m.\u001b[39mget_path(\u001b[39mself\u001b[39m\u001b[39m.\u001b[39mservice, \u001b[39mself\u001b[39m\u001b[39m.\u001b[39moptions)\n\u001b[0;32m---> 49\u001b[0m \u001b[39msuper\u001b[39;49m()\u001b[39m.\u001b[39;49m\u001b[39m__init__\u001b[39;49m(\n\u001b[1;32m     50\u001b[0m     DesiredCapabilities\u001b[39m.\u001b[39;49mCHROME[\u001b[39m\"\u001b[39;49m\u001b[39mbrowserName\u001b[39;49m\u001b[39m\"\u001b[39;49m],\n\u001b[1;32m     51\u001b[0m     \u001b[39m\"\u001b[39;49m\u001b[39mgoog\u001b[39;49m\u001b[39m\"\u001b[39;49m,\n\u001b[1;32m     52\u001b[0m     \u001b[39mself\u001b[39;49m\u001b[39m.\u001b[39;49moptions,\n\u001b[1;32m     53\u001b[0m     \u001b[39mself\u001b[39;49m\u001b[39m.\u001b[39;49mservice,\n\u001b[1;32m     54\u001b[0m     \u001b[39mself\u001b[39;49m\u001b[39m.\u001b[39;49mkeep_alive,\n\u001b[1;32m     55\u001b[0m )\n",
      "File \u001b[0;32m/usr/local/lib/python3.10/site-packages/selenium/webdriver/chromium/webdriver.py:54\u001b[0m, in \u001b[0;36mChromiumDriver.__init__\u001b[0;34m(self, browser_name, vendor_prefix, options, service, keep_alive)\u001b[0m\n\u001b[1;32m     51\u001b[0m \u001b[39mself\u001b[39m\u001b[39m.\u001b[39mservice\u001b[39m.\u001b[39mstart()\n\u001b[1;32m     53\u001b[0m \u001b[39mtry\u001b[39;00m:\n\u001b[0;32m---> 54\u001b[0m     \u001b[39msuper\u001b[39;49m()\u001b[39m.\u001b[39;49m\u001b[39m__init__\u001b[39;49m(\n\u001b[1;32m     55\u001b[0m         command_executor\u001b[39m=\u001b[39;49mChromiumRemoteConnection(\n\u001b[1;32m     56\u001b[0m             remote_server_addr\u001b[39m=\u001b[39;49m\u001b[39mself\u001b[39;49m\u001b[39m.\u001b[39;49mservice\u001b[39m.\u001b[39;49mservice_url,\n\u001b[1;32m     57\u001b[0m             browser_name\u001b[39m=\u001b[39;49mbrowser_name,\n\u001b[1;32m     58\u001b[0m             vendor_prefix\u001b[39m=\u001b[39;49mvendor_prefix,\n\u001b[1;32m     59\u001b[0m             keep_alive\u001b[39m=\u001b[39;49mkeep_alive,\n\u001b[1;32m     60\u001b[0m             ignore_proxy\u001b[39m=\u001b[39;49m\u001b[39mself\u001b[39;49m\u001b[39m.\u001b[39;49moptions\u001b[39m.\u001b[39;49m_ignore_local_proxy,\n\u001b[1;32m     61\u001b[0m         ),\n\u001b[1;32m     62\u001b[0m         options\u001b[39m=\u001b[39;49m\u001b[39mself\u001b[39;49m\u001b[39m.\u001b[39;49moptions,\n\u001b[1;32m     63\u001b[0m     )\n\u001b[1;32m     64\u001b[0m \u001b[39mexcept\u001b[39;00m \u001b[39mException\u001b[39;00m:\n\u001b[1;32m     65\u001b[0m     \u001b[39mself\u001b[39m\u001b[39m.\u001b[39mquit()\n",
      "File \u001b[0;32m/usr/local/lib/python3.10/site-packages/selenium/webdriver/remote/webdriver.py:206\u001b[0m, in \u001b[0;36mWebDriver.__init__\u001b[0;34m(self, command_executor, keep_alive, file_detector, options)\u001b[0m\n\u001b[1;32m    204\u001b[0m \u001b[39mself\u001b[39m\u001b[39m.\u001b[39m_authenticator_id \u001b[39m=\u001b[39m \u001b[39mNone\u001b[39;00m\n\u001b[1;32m    205\u001b[0m \u001b[39mself\u001b[39m\u001b[39m.\u001b[39mstart_client()\n\u001b[0;32m--> 206\u001b[0m \u001b[39mself\u001b[39;49m\u001b[39m.\u001b[39;49mstart_session(capabilities)\n",
      "File \u001b[0;32m/usr/local/lib/python3.10/site-packages/selenium/webdriver/remote/webdriver.py:291\u001b[0m, in \u001b[0;36mWebDriver.start_session\u001b[0;34m(self, capabilities)\u001b[0m\n\u001b[1;32m    283\u001b[0m \u001b[39m\"\"\"Creates a new session with the desired capabilities.\u001b[39;00m\n\u001b[1;32m    284\u001b[0m \n\u001b[1;32m    285\u001b[0m \u001b[39m:Args:\u001b[39;00m\n\u001b[1;32m    286\u001b[0m \u001b[39m - capabilities - a capabilities dict to start the session with.\u001b[39;00m\n\u001b[1;32m    287\u001b[0m \u001b[39m - browser_profile - A selenium.webdriver.firefox.firefox_profile.FirefoxProfile object. Only used if Firefox is requested.\u001b[39;00m\n\u001b[1;32m    288\u001b[0m \u001b[39m\"\"\"\u001b[39;00m\n\u001b[1;32m    290\u001b[0m caps \u001b[39m=\u001b[39m _create_caps(capabilities)\n\u001b[0;32m--> 291\u001b[0m response \u001b[39m=\u001b[39m \u001b[39mself\u001b[39;49m\u001b[39m.\u001b[39;49mexecute(Command\u001b[39m.\u001b[39;49mNEW_SESSION, caps)[\u001b[39m\"\u001b[39m\u001b[39mvalue\u001b[39m\u001b[39m\"\u001b[39m]\n\u001b[1;32m    292\u001b[0m \u001b[39mself\u001b[39m\u001b[39m.\u001b[39msession_id \u001b[39m=\u001b[39m response\u001b[39m.\u001b[39mget(\u001b[39m\"\u001b[39m\u001b[39msessionId\u001b[39m\u001b[39m\"\u001b[39m)\n\u001b[1;32m    293\u001b[0m \u001b[39mself\u001b[39m\u001b[39m.\u001b[39mcaps \u001b[39m=\u001b[39m response\u001b[39m.\u001b[39mget(\u001b[39m\"\u001b[39m\u001b[39mcapabilities\u001b[39m\u001b[39m\"\u001b[39m)\n",
      "File \u001b[0;32m/usr/local/lib/python3.10/site-packages/selenium/webdriver/remote/webdriver.py:346\u001b[0m, in \u001b[0;36mWebDriver.execute\u001b[0;34m(self, driver_command, params)\u001b[0m\n\u001b[1;32m    344\u001b[0m response \u001b[39m=\u001b[39m \u001b[39mself\u001b[39m\u001b[39m.\u001b[39mcommand_executor\u001b[39m.\u001b[39mexecute(driver_command, params)\n\u001b[1;32m    345\u001b[0m \u001b[39mif\u001b[39;00m response:\n\u001b[0;32m--> 346\u001b[0m     \u001b[39mself\u001b[39;49m\u001b[39m.\u001b[39;49merror_handler\u001b[39m.\u001b[39;49mcheck_response(response)\n\u001b[1;32m    347\u001b[0m     response[\u001b[39m\"\u001b[39m\u001b[39mvalue\u001b[39m\u001b[39m\"\u001b[39m] \u001b[39m=\u001b[39m \u001b[39mself\u001b[39m\u001b[39m.\u001b[39m_unwrap_value(response\u001b[39m.\u001b[39mget(\u001b[39m\"\u001b[39m\u001b[39mvalue\u001b[39m\u001b[39m\"\u001b[39m, \u001b[39mNone\u001b[39;00m))\n\u001b[1;32m    348\u001b[0m     \u001b[39mreturn\u001b[39;00m response\n",
      "File \u001b[0;32m/usr/local/lib/python3.10/site-packages/selenium/webdriver/remote/errorhandler.py:245\u001b[0m, in \u001b[0;36mErrorHandler.check_response\u001b[0;34m(self, response)\u001b[0m\n\u001b[1;32m    243\u001b[0m         alert_text \u001b[39m=\u001b[39m value[\u001b[39m\"\u001b[39m\u001b[39malert\u001b[39m\u001b[39m\"\u001b[39m]\u001b[39m.\u001b[39mget(\u001b[39m\"\u001b[39m\u001b[39mtext\u001b[39m\u001b[39m\"\u001b[39m)\n\u001b[1;32m    244\u001b[0m     \u001b[39mraise\u001b[39;00m exception_class(message, screen, stacktrace, alert_text)  \u001b[39m# type: ignore[call-arg]  # mypy is not smart enough here\u001b[39;00m\n\u001b[0;32m--> 245\u001b[0m \u001b[39mraise\u001b[39;00m exception_class(message, screen, stacktrace)\n",
      "\u001b[0;31mSessionNotCreatedException\u001b[0m: Message: session not created: This version of ChromeDriver only supports Chrome version 89\nCurrent browser version is 114.0.5735.198 with binary path /Applications/Google Chrome.app/Contents/MacOS/Google Chrome\nStacktrace:\n0   chromedriver                        0x0000000100b7cb59 chromedriver + 2595673\n1   chromedriver                        0x0000000101230b33 chromedriver + 9624371\n2   chromedriver                        0x000000010092c773 chromedriver + 169843\n3   chromedriver                        0x0000000100950bf6 chromedriver + 318454\n4   chromedriver                        0x000000010094cdc4 chromedriver + 302532\n5   chromedriver                        0x000000010094a032 chromedriver + 290866\n6   chromedriver                        0x000000010097d234 chromedriver + 500276\n7   chromedriver                        0x00000001009784f3 chromedriver + 480499\n8   chromedriver                        0x0000000100952cd6 chromedriver + 326870\n9   chromedriver                        0x0000000100953ba7 chromedriver + 330663\n10  chromedriver                        0x0000000100b4ab09 chromedriver + 2390793\n11  chromedriver                        0x0000000100b57bcc chromedriver + 2444236\n12  chromedriver                        0x0000000100b576ee chromedriver + 2442990\n13  chromedriver                        0x0000000100b31832 chromedriver + 2287666\n14  chromedriver                        0x0000000100b5863f chromedriver + 2446911\n15  chromedriver                        0x0000000100b40299 chromedriver + 2347673\n16  chromedriver                        0x0000000100b6f8b9 chromedriver + 2541753\n17  chromedriver                        0x0000000100b82008 chromedriver + 2617352\n18  libsystem_pthread.dylib             0x00007ff818123259 _pthread_start + 125\n19  libsystem_pthread.dylib             0x00007ff81811ec7b thread_start + 15\n"
     ]
    }
   ],
   "source": [
    "# op = webdriver.ChromeOptions()\n",
    "# op.add_argument('headless')\n",
    "\n"
   ]
  },
  {
   "cell_type": "code",
   "execution_count": 77,
   "metadata": {},
   "outputs": [
    {
     "ename": "AttributeError",
     "evalue": "'NoneType' object has no attribute 'string'",
     "output_type": "error",
     "traceback": [
      "\u001b[0;31m---------------------------------------------------------------------------\u001b[0m",
      "\u001b[0;31mAttributeError\u001b[0m                            Traceback (most recent call last)",
      "\u001b[1;32m/Users/gautamvenkatesh/Coding/ebay_recommender/ebay-recommender/src/eda/amazon_scraping.ipynb Cell 3\u001b[0m in \u001b[0;36m4\n\u001b[1;32m      <a href='vscode-notebook-cell:/Users/gautamvenkatesh/Coding/ebay_recommender/ebay-recommender/src/eda/amazon_scraping.ipynb#W2sZmlsZQ%3D%3D?line=0'>1</a>\u001b[0m soup \u001b[39m=\u001b[39m BeautifulSoup(webpage\u001b[39m.\u001b[39mcontent, \u001b[39m'\u001b[39m\u001b[39mlxml\u001b[39m\u001b[39m'\u001b[39m)\n\u001b[1;32m      <a href='vscode-notebook-cell:/Users/gautamvenkatesh/Coding/ebay_recommender/ebay-recommender/src/eda/amazon_scraping.ipynb#W2sZmlsZQ%3D%3D?line=1'>2</a>\u001b[0m title \u001b[39m=\u001b[39m soup\u001b[39m.\u001b[39mfind(\u001b[39m\"\u001b[39m\u001b[39mspan\u001b[39m\u001b[39m\"\u001b[39m, attrs\u001b[39m=\u001b[39m{\u001b[39m\"\u001b[39m\u001b[39mid\u001b[39m\u001b[39m\"\u001b[39m:\u001b[39m'\u001b[39m\u001b[39mproductTitle\u001b[39m\u001b[39m'\u001b[39m})\n\u001b[0;32m----> <a href='vscode-notebook-cell:/Users/gautamvenkatesh/Coding/ebay_recommender/ebay-recommender/src/eda/amazon_scraping.ipynb#W2sZmlsZQ%3D%3D?line=3'>4</a>\u001b[0m title_string \u001b[39m=\u001b[39m title\u001b[39m.\u001b[39mstring\u001b[39m.\u001b[39mstrip()\n",
      "\u001b[0;31mAttributeError\u001b[0m: 'NoneType' object has no attribute 'string'"
     ]
    }
   ],
   "source": [
    "soup = BeautifulSoup(webpage.content, 'lxml')\n",
    "title = soup.find(\"span\", attrs={\"id\":'productTitle'})\n",
    "\n",
    "title_string = title.string.strip()"
   ]
  },
  {
   "cell_type": "code",
   "execution_count": 85,
   "metadata": {},
   "outputs": [],
   "source": [
    "title_string = \"Apple EarPods Headphones with Lightning Connector. Microphone with Built-in Remote to Control Music, Phone Calls, and Volume. Wired Earbuds for iPhone\""
   ]
  },
  {
   "cell_type": "code",
   "execution_count": 86,
   "metadata": {},
   "outputs": [],
   "source": [
    "with open('../models/count_vec.pkl', 'rb') as f:\n",
    "    (count_vec, title_tfidf, clf) = pickle.load(f)"
   ]
  },
  {
   "cell_type": "code",
   "execution_count": 87,
   "metadata": {},
   "outputs": [
    {
     "data": {
      "text/plain": [
       "'apple earpods headphones lightning connector microphone built remote control music phone calls volume wired earbuds iphone'"
      ]
     },
     "execution_count": 87,
     "metadata": {},
     "output_type": "execute_result"
    }
   ],
   "source": [
    "# Text feature extraction\n",
    "sw = set(stopwords.words('english'))\n",
    "# Remove special characters\n",
    "title_string_clean = re.sub(r'\\s+', ' ', re.sub('[^A-Za-z0-9]', ' ', title_string.strip().lower())).strip()\n",
    "# Tokenize\n",
    "title_string_clean = word_tokenize(title_string_clean)\n",
    "# Remove stop words\n",
    "title_string_clean = [w for w in title_string_clean if w not in sw]\n",
    "title_string_clean = \" \".join(title_string_clean)\n",
    "title_string_clean"
   ]
  },
  {
   "cell_type": "code",
   "execution_count": 96,
   "metadata": {},
   "outputs": [
    {
     "data": {
      "text/plain": [
       "array([[14423, 13443,  4946, 24491, 16734, 23734, 18391,  4795, 27565,\n",
       "        26625]])"
      ]
     },
     "execution_count": 96,
     "metadata": {},
     "output_type": "execute_result"
    }
   ],
   "source": [
    "title_vec = count_vec.transform([title_string_clean])\n",
    "norm_title_vec = title_tfidf.transform(title_vec)\n",
    "\n",
    "nbrs = clf.kneighbors(norm_title_vec, 10, return_distance=False)\n",
    "nbrs"
   ]
  },
  {
   "cell_type": "code",
   "execution_count": 89,
   "metadata": {},
   "outputs": [],
   "source": [
    "df = pd.read_csv('../data/ebay_data_clean.csv')\n"
   ]
  },
  {
   "cell_type": "code",
   "execution_count": 98,
   "metadata": {},
   "outputs": [
    {
     "name": "stdout",
     "output_type": "stream",
     "text": [
      "14423    https://www.ebay.com/itm/Apple-EarPods-with-Li...\n",
      "13443    https://www.ebay.com/itm/2-Pack-Earphones-with...\n",
      "4946     https://www.ebay.com/itm/Lightning-Headphones-...\n",
      "24491    https://www.ebay.com/itm/NEW-IN-ORIGINAL-IPHON...\n",
      "16734    https://www.ebay.com/itm/1More-Triple-Driver-I...\n",
      "23734    https://www.ebay.com/itm/Genuine-Apple-Ear-pod...\n",
      "18391    https://www.ebay.com/itm/apple-iphone-earbuds/...\n",
      "4795     https://www.ebay.com/itm/BestGot-Headphones-Ov...\n",
      "27565    https://www.ebay.com/p/13017016037?iid=1439499...\n",
      "26625    https://www.ebay.com/p/13017016037?iid=3931943...\n",
      "Name: Pageurl, dtype: object\n"
     ]
    }
   ],
   "source": [
    "print(df.iloc[nbrs[0]]['Pageurl'])"
   ]
  },
  {
   "cell_type": "code",
   "execution_count": 51,
   "metadata": {},
   "outputs": [
    {
     "data": {
      "text/plain": [
       "'14423    https://www.ebay.com/itm/Apple-EarPods-with-Li...\\nName: Pageurl, dtype: object'"
      ]
     },
     "execution_count": 51,
     "metadata": {},
     "output_type": "execute_result"
    }
   ],
   "source": [
    "x"
   ]
  }
 ],
 "metadata": {
  "kernelspec": {
   "display_name": "Python 3",
   "language": "python",
   "name": "python3"
  },
  "language_info": {
   "codemirror_mode": {
    "name": "ipython",
    "version": 3
   },
   "file_extension": ".py",
   "mimetype": "text/x-python",
   "name": "python",
   "nbconvert_exporter": "python",
   "pygments_lexer": "ipython3",
   "version": "3.10.6"
  },
  "orig_nbformat": 4
 },
 "nbformat": 4,
 "nbformat_minor": 2
}

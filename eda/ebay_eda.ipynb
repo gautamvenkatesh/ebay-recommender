{
 "cells": [
  {
   "cell_type": "code",
   "execution_count": 101,
   "metadata": {},
   "outputs": [
    {
     "name": "stderr",
     "output_type": "stream",
     "text": [
      "[nltk_data] Downloading package stopwords to\n",
      "[nltk_data]     /Users/gautamvenkatesh/nltk_data...\n",
      "[nltk_data]   Package stopwords is already up-to-date!\n",
      "[nltk_data] Downloading package punkt to\n",
      "[nltk_data]     /Users/gautamvenkatesh/nltk_data...\n",
      "[nltk_data]   Package punkt is already up-to-date!\n"
     ]
    },
    {
     "data": {
      "text/plain": [
       "True"
      ]
     },
     "execution_count": 101,
     "metadata": {},
     "output_type": "execute_result"
    }
   ],
   "source": [
    "import pandas as pd\n",
    "import numpy as np\n",
    "import scipy\n",
    "import re\n",
    "\n",
    "import nltk\n",
    "from nltk.corpus import stopwords\n",
    "from nltk.tokenize import word_tokenize\n",
    "\n",
    "import pickle\n",
    "\n",
    "from sklearn.feature_extraction.text import CountVectorizer \n",
    "from sklearn.feature_extraction.text import TfidfTransformer\n",
    "from sklearn.neighbors import NearestNeighbors\n",
    "\n",
    "\n",
    "\n",
    "\n",
    "nltk.download('stopwords')\n",
    "nltk.download('punkt')"
   ]
  },
  {
   "cell_type": "code",
   "execution_count": 102,
   "metadata": {},
   "outputs": [
    {
     "data": {
      "text/html": [
       "<div>\n",
       "<style scoped>\n",
       "    .dataframe tbody tr th:only-of-type {\n",
       "        vertical-align: middle;\n",
       "    }\n",
       "\n",
       "    .dataframe tbody tr th {\n",
       "        vertical-align: top;\n",
       "    }\n",
       "\n",
       "    .dataframe thead th {\n",
       "        text-align: right;\n",
       "    }\n",
       "</style>\n",
       "<table border=\"1\" class=\"dataframe\">\n",
       "  <thead>\n",
       "    <tr style=\"text-align: right;\">\n",
       "      <th></th>\n",
       "      <th>Uniq Id</th>\n",
       "      <th>Pageurl</th>\n",
       "      <th>Title</th>\n",
       "      <th>Num Of Reviews</th>\n",
       "      <th>Average Rating</th>\n",
       "      <th>Price</th>\n",
       "      <th>Specifications</th>\n",
       "    </tr>\n",
       "  </thead>\n",
       "  <tbody>\n",
       "    <tr>\n",
       "      <th>0</th>\n",
       "      <td>38c0bcb6ce1e5d1750b442dd9446aac9</td>\n",
       "      <td>https://www.ebay.com/p/7024512090?iid=16461748...</td>\n",
       "      <td>Samsung Galaxy Note 8 6GB RAM 64GB Dual SIM (U...</td>\n",
       "      <td>NaN</td>\n",
       "      <td>NaN</td>\n",
       "      <td>$369.08</td>\n",
       "      <td>NaN</td>\n",
       "    </tr>\n",
       "    <tr>\n",
       "      <th>1</th>\n",
       "      <td>31be03c526b3b65322e73ce617fa0e57</td>\n",
       "      <td>https://www.ebay.com/itm/Apple-Airpods-Pro-wit...</td>\n",
       "      <td>Apple Airpods Pro with wireless charging case ...</td>\n",
       "      <td>NaN</td>\n",
       "      <td>NaN</td>\n",
       "      <td>$245.00</td>\n",
       "      <td>NaN</td>\n",
       "    </tr>\n",
       "    <tr>\n",
       "      <th>2</th>\n",
       "      <td>5f2eacffc44070e54ef3195d4e3889d1</td>\n",
       "      <td>https://www.ebay.com/p/238211749?iid=174232921...</td>\n",
       "      <td>Apple iPad Pro 1st Gen. 64GB, Wi-Fi + 4G (Unlo...</td>\n",
       "      <td>NaN</td>\n",
       "      <td>NaN</td>\n",
       "      <td>$431.24</td>\n",
       "      <td>NaN</td>\n",
       "    </tr>\n",
       "    <tr>\n",
       "      <th>3</th>\n",
       "      <td>63769e57a0c804cd2871d813a835ed2b</td>\n",
       "      <td>https://www.ebay.com/itm/Nintendo-wii-console-...</td>\n",
       "      <td>Nintendo wii console fit board and games bundle</td>\n",
       "      <td>NaN</td>\n",
       "      <td>NaN</td>\n",
       "      <td>$108.73</td>\n",
       "      <td>NaN</td>\n",
       "    </tr>\n",
       "    <tr>\n",
       "      <th>4</th>\n",
       "      <td>dd01861b46b2d5f2d24a64c1f64c5564</td>\n",
       "      <td>https://www.ebay.com/itm/Fossil-smart-watch/16...</td>\n",
       "      <td>Fossil smart watch</td>\n",
       "      <td>NaN</td>\n",
       "      <td>NaN</td>\n",
       "      <td>$200.00</td>\n",
       "      <td>NaN</td>\n",
       "    </tr>\n",
       "    <tr>\n",
       "      <th>5</th>\n",
       "      <td>8c68dfe9580d23ced8b5fe4c2d8cc36d</td>\n",
       "      <td>https://www.ebay.com/p/28032166820?iid=2746123...</td>\n",
       "      <td>Samsung SM-R170NZWAROM Earphones Buds - White ...</td>\n",
       "      <td>NaN</td>\n",
       "      <td>NaN</td>\n",
       "      <td>$117.41</td>\n",
       "      <td>NaN</td>\n",
       "    </tr>\n",
       "    <tr>\n",
       "      <th>6</th>\n",
       "      <td>ea6bc156a1ec1cdb98dc32af43fc5478</td>\n",
       "      <td>https://www.ebay.com/p/22040938184?iid=3337799...</td>\n",
       "      <td>Ring Video Doorbell Elite - Ethernet Power 108...</td>\n",
       "      <td>NaN</td>\n",
       "      <td>NaN</td>\n",
       "      <td>$189.00</td>\n",
       "      <td>NaN</td>\n",
       "    </tr>\n",
       "    <tr>\n",
       "      <th>7</th>\n",
       "      <td>74d4d03defd808e2f32d5bddc92a4476</td>\n",
       "      <td>https://www.ebay.com/p/239080946?iid=363277979...</td>\n",
       "      <td>Apple iPhone X - 256GB - Space Grey (Vodafone)...</td>\n",
       "      <td>NaN</td>\n",
       "      <td>NaN</td>\n",
       "      <td>$413.73</td>\n",
       "      <td>NaN</td>\n",
       "    </tr>\n",
       "    <tr>\n",
       "      <th>8</th>\n",
       "      <td>bc2bd4a6db2e818996b147b7668688d7</td>\n",
       "      <td>https://www.ebay.com/itm/For-Chromecast-4th-Ge...</td>\n",
       "      <td>For Chromecast 4th Generation 1080HD HDMI Medi...</td>\n",
       "      <td>NaN</td>\n",
       "      <td>NaN</td>\n",
       "      <td>$16.95</td>\n",
       "      <td>NaN</td>\n",
       "    </tr>\n",
       "    <tr>\n",
       "      <th>9</th>\n",
       "      <td>4581b1201a4de9dfd33fe328996f51e7</td>\n",
       "      <td>https://www.ebay.com/itm/Cinturino-di-ricambio...</td>\n",
       "      <td>Cinturino di ricambio in silicone per Garmin S...</td>\n",
       "      <td>NaN</td>\n",
       "      <td>NaN</td>\n",
       "      <td>$7.24</td>\n",
       "      <td>NaN</td>\n",
       "    </tr>\n",
       "  </tbody>\n",
       "</table>\n",
       "</div>"
      ],
      "text/plain": [
       "                            Uniq Id  \\\n",
       "0  38c0bcb6ce1e5d1750b442dd9446aac9   \n",
       "1  31be03c526b3b65322e73ce617fa0e57   \n",
       "2  5f2eacffc44070e54ef3195d4e3889d1   \n",
       "3  63769e57a0c804cd2871d813a835ed2b   \n",
       "4  dd01861b46b2d5f2d24a64c1f64c5564   \n",
       "5  8c68dfe9580d23ced8b5fe4c2d8cc36d   \n",
       "6  ea6bc156a1ec1cdb98dc32af43fc5478   \n",
       "7  74d4d03defd808e2f32d5bddc92a4476   \n",
       "8  bc2bd4a6db2e818996b147b7668688d7   \n",
       "9  4581b1201a4de9dfd33fe328996f51e7   \n",
       "\n",
       "                                             Pageurl  \\\n",
       "0  https://www.ebay.com/p/7024512090?iid=16461748...   \n",
       "1  https://www.ebay.com/itm/Apple-Airpods-Pro-wit...   \n",
       "2  https://www.ebay.com/p/238211749?iid=174232921...   \n",
       "3  https://www.ebay.com/itm/Nintendo-wii-console-...   \n",
       "4  https://www.ebay.com/itm/Fossil-smart-watch/16...   \n",
       "5  https://www.ebay.com/p/28032166820?iid=2746123...   \n",
       "6  https://www.ebay.com/p/22040938184?iid=3337799...   \n",
       "7  https://www.ebay.com/p/239080946?iid=363277979...   \n",
       "8  https://www.ebay.com/itm/For-Chromecast-4th-Ge...   \n",
       "9  https://www.ebay.com/itm/Cinturino-di-ricambio...   \n",
       "\n",
       "                                               Title  Num Of Reviews  \\\n",
       "0  Samsung Galaxy Note 8 6GB RAM 64GB Dual SIM (U...             NaN   \n",
       "1  Apple Airpods Pro with wireless charging case ...             NaN   \n",
       "2  Apple iPad Pro 1st Gen. 64GB, Wi-Fi + 4G (Unlo...             NaN   \n",
       "3    Nintendo wii console fit board and games bundle             NaN   \n",
       "4                                 Fossil smart watch             NaN   \n",
       "5  Samsung SM-R170NZWAROM Earphones Buds - White ...             NaN   \n",
       "6  Ring Video Doorbell Elite - Ethernet Power 108...             NaN   \n",
       "7  Apple iPhone X - 256GB - Space Grey (Vodafone)...             NaN   \n",
       "8  For Chromecast 4th Generation 1080HD HDMI Medi...             NaN   \n",
       "9  Cinturino di ricambio in silicone per Garmin S...             NaN   \n",
       "\n",
       "   Average Rating    Price  Specifications  \n",
       "0             NaN  $369.08             NaN  \n",
       "1             NaN  $245.00             NaN  \n",
       "2             NaN  $431.24             NaN  \n",
       "3             NaN  $108.73             NaN  \n",
       "4             NaN  $200.00             NaN  \n",
       "5             NaN  $117.41             NaN  \n",
       "6             NaN  $189.00             NaN  \n",
       "7             NaN  $413.73             NaN  \n",
       "8             NaN   $16.95             NaN  \n",
       "9             NaN    $7.24             NaN  "
      ]
     },
     "execution_count": 102,
     "metadata": {},
     "output_type": "execute_result"
    }
   ],
   "source": [
    "names = [\"Uniq Id\", \"Crawl Timestamp\", \"Pageurl\", \"Website\", \"Title\", \"Num Of Reviews\", \"Average Rating\", \"Number Of Ratings\", \"Model Num\", \"Sku\", \"Upc\", \"Manufacturer\", \"Model Name\", \"Price\", \"Monthly Price\", \"Stock\", \"Carrier\", \"Color Category\",\" Internal Memory\", \"Screen Size\", \"Specifications\", \"Five Star\", \"Four Star\", \"Three Star\", \"Two Star\", \"One Star\", \"Discontinued\", \"Broken Link\", \"Seller Rating\", \"Seller Num Of Reviews\", \"extra\"]\n",
    "\n",
    "df_raw = pd.read_csv(\"../data/marketing_sample_for_ebay_com-ebay_com_product__20210101_20210331__30k_data.csv\", names=names, skiprows=[0])\n",
    "\n",
    "df = df_raw[['Uniq Id', 'Pageurl', 'Title', 'Num Of Reviews', 'Average Rating', 'Price', 'Specifications']]\n",
    "df.head(10)"
   ]
  },
  {
   "cell_type": "code",
   "execution_count": 103,
   "metadata": {},
   "outputs": [],
   "source": [
    "# Cleaning\n",
    "\n",
    "df = df.dropna(subset=['Title', 'Price'])\n",
    "df['Price'] = df['Price'].apply(lambda p: float(p.replace('$', '').replace(',', '')))\n"
   ]
  },
  {
   "cell_type": "code",
   "execution_count": 104,
   "metadata": {},
   "outputs": [],
   "source": [
    "# Text Cleaning\n",
    "sw = set(stopwords.words('english'))\n",
    "\n",
    "df['title_tok'] = df['Title'].apply(lambda title: re.sub(r'\\s+', ' ', re.sub('[^A-Za-z0-9]', ' ', \n",
    "           title.strip().lower())).strip())\n",
    "df['title_tok'] = df['title_tok'].apply(word_tokenize)\n",
    "df['title_tok'] = df['title_tok'].apply(lambda word_l: [w for w in word_l if w not in sw])\n",
    "df['title_tok'] = df['title_tok'].apply(lambda word_l: \" \".join(word_l))"
   ]
  },
  {
   "cell_type": "code",
   "execution_count": 105,
   "metadata": {},
   "outputs": [],
   "source": [
    "# Bag of words implement\n",
    "\n",
    "count_vec = CountVectorizer()\n",
    "tfidf_transformer = TfidfTransformer()\n",
    "nn = NearestNeighbors(algorithm='brute', metric=\"cosine\")\n",
    "\n",
    "count_matrix = count_vec.fit_transform(df['title_tok'])\n",
    "title_tfidf = tfidf_transformer.fit_transform(count_matrix)\n",
    "clf = nn.fit(title_tfidf)\n",
    "\n",
    "df['title_tok_vec'] = title_tfidf.getnnz()"
   ]
  },
  {
   "cell_type": "code",
   "execution_count": 64,
   "metadata": {},
   "outputs": [
    {
     "data": {
      "text/plain": [
       "<AxesSubplot: >"
      ]
     },
     "execution_count": 64,
     "metadata": {},
     "output_type": "execute_result"
    },
    {
     "data": {
      "image/png": "[encoded data removed]",
      "text/plain": [
       "<Figure size 640x480 with 1 Axes>"
      ]
     },
     "metadata": {},
     "output_type": "display_data"
    }
   ],
   "source": [
    "# Distribution of Ebay prices (without outliers)\n",
    "\n",
    "max_v = np.percentile(df['Price'], 0.75) + 1.5 * scipy.stats.iqr(df['Price'])\n",
    "df['Price'].hist(bins=np.arange(0, max_v, max_v // 5))\n"
   ]
  },
  {
   "cell_type": "code",
   "execution_count": null,
   "metadata": {},
   "outputs": [],
   "source": []
  }
 ],
 "metadata": {
  "kernelspec": {
   "display_name": "Python 3",
   "language": "python",
   "name": "python3"
  },
  "language_info": {
   "codemirror_mode": {
    "name": "ipython",
    "version": 3
   },
   "file_extension": ".py",
   "mimetype": "text/x-python",
   "name": "python",
   "nbconvert_exporter": "python",
   "pygments_lexer": "ipython3",
   "version": "3.10.6"
  },
  "orig_nbformat": 4
 },
 "nbformat": 4,
 "nbformat_minor": 2
}
